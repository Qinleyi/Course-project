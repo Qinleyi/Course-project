{
 "cells": [
  {
   "cell_type": "markdown",
   "id": "4bbba77f",
   "metadata": {},
   "source": [
    "# Analysis 1\n",
    "### Is there a relationship between disability and loneliness"
   ]
  },
  {
   "cell_type": "markdown",
   "id": "4200d8ff",
   "metadata": {},
   "source": [
    "###### Research Question\n",
    "Compared with the national average loneliness score, is the average loneliness score higher among people with disabilities?"
   ]
  },
  {
   "cell_type": "markdown",
   "id": "a0aae304",
   "metadata": {},
   "source": [
    "###### Variables"
   ]
  },
  {
   "cell_type": "markdown",
   "id": "780683a9",
   "metadata": {},
   "source": [
    "1.Loneliness Score\n",
    "* Measurement: Continuous scale\n",
    "* Visualization: Histograms or density plots of the loneliness scores\n",
    "* Relevance: Show the distribution and potential outliers."
   ]
  },
  {
   "cell_type": "markdown",
   "id": "094f0cb5",
   "metadata": {},
   "source": [
    "2.Disability\n",
    "* Measurement: Likely a categorical variable (\"No\", \"Not selected\", \"people with chronic health problem\")\n",
    "* Visualization: Bar chart or pie chart showing the proportion of individuals with or without disabilities\n",
    "* Relevance: Shows the impact of disability"
   ]
  },
  {
   "cell_type": "markdown",
   "id": "8bcf1acc",
   "metadata": {},
   "source": [
    "###### Analysis Method"
   ]
  },
  {
   "cell_type": "markdown",
   "id": "745dbf9f",
   "metadata": {},
   "source": [
    "1.One Sample Hypothesis Test comparing the mean loneliness score of individuals with disabilities to the national average\n",
    "2.Bootstrapping to create confidence intervals for the mean loneliness scores"
   ]
  },
  {
   "cell_type": "markdown",
   "id": "76d9f71f",
   "metadata": {},
   "source": [
    "###### Hypothesis and Results\n",
    "* H0: The mean loneliness score of individuals with disabilities is equal to the national average loneliness score.\n",
    "* H1: The mean loneliness score of individuals with disabilities is greater than the national average loneliness score.\n",
    "* Relevance: If the confidence interval for the mean loneliness score of individuals with disabilities does not include the national average, which suggests a statistically significant difference."
   ]
  },
  {
   "cell_type": "code",
   "execution_count": null,
   "id": "36132541",
   "metadata": {},
   "outputs": [],
   "source": []
  },
  {
   "cell_type": "markdown",
   "id": "f9a2980a",
   "metadata": {},
   "source": [
    "# Analysis 2\n",
    "### Relationship between infected COVID and prevention hand washing"
   ]
  },
  {
   "cell_type": "markdown",
   "id": "6e28cb6b",
   "metadata": {},
   "source": [
    "###### Research Question\n",
    "What is the relationship between the frequency of hand washing and contracting COVID-19 among individuals in a give population?"
   ]
  },
  {
   "cell_type": "markdown",
   "id": "b33aa77d",
   "metadata": {},
   "source": [
    "###### Variables"
   ]
  },
  {
   "cell_type": "markdown",
   "id": "afda0486",
   "metadata": {},
   "source": [
    "1.Frequency of hand washing\n",
    "* Measurement: Ordinal scale (Not at all to Very Closely)\n",
    "* Visualization: Bar chart showing the frequency of hand washing categories\n",
    "* Relevance: a preventive measure against the transmissionof infectious diseases"
   ]
  },
  {
   "cell_type": "markdown",
   "id": "348910ee",
   "metadata": {},
   "source": [
    "2.Contracting COVID-19\n",
    "* Measurement: Binary outcome (infected vs. not infected)\n",
    "* Visualization: Pie chart to depict the percentage of individuals in each category\n",
    "* Relevance: Indicates overall infection status"
   ]
  },
  {
   "cell_type": "markdown",
   "id": "7cec0af4",
   "metadata": {},
   "source": [
    "###### Analysis Method"
   ]
  },
  {
   "cell_type": "markdown",
   "id": "6c268f1a",
   "metadata": {},
   "source": [
    "1.Simple Linear Regression\n",
    "2.Coefficient Hypothesis Test for Slope (if the slope of the regression line is significantly different from zero.)"
   ]
  },
  {
   "cell_type": "markdown",
   "id": "6c21c18b",
   "metadata": {},
   "source": [
    "###### Hypothesis and Results"
   ]
  },
  {
   "cell_type": "markdown",
   "id": "dc58d8ea",
   "metadata": {},
   "source": [
    "* H0: There is no relationship between the frequency of hand washing and contracting COVID-19 (β=0)\n",
    "* H1: There is a significant relationship between the frequency of hand washing and contracting COVID-19\n",
    "* Relevance: The analysis will quantify the impact of hand washing frequency on the likelihood of contracting COVID-19, providing evidence for the effectiveness of hygiene interventions in public health strategies."
   ]
  },
  {
   "cell_type": "code",
   "execution_count": null,
   "id": "6fd33ae0",
   "metadata": {},
   "outputs": [],
   "source": []
  },
  {
   "cell_type": "markdown",
   "id": "8a7a3efd",
   "metadata": {},
   "source": [
    "# Analysis 3\n",
    "### Use time balance hobbies and life satisfaction"
   ]
  },
  {
   "cell_type": "markdown",
   "id": "e878f415",
   "metadata": {},
   "source": [
    "###### Research Question\n",
    "How does the balance between time spent on hobbies and other life responsibilities relate to overall life satisfaction among adults?"
   ]
  },
  {
   "cell_type": "markdown",
   "id": "efe67e02",
   "metadata": {},
   "source": [
    "###### Variables"
   ]
  },
  {
   "cell_type": "markdown",
   "id": "b8c54db7",
   "metadata": {},
   "source": [
    "1.Time balance hobbies extent\n",
    "* Measurement: ordinal scale (too little to too much)\n",
    "* Visualization: bar chart show different categories of time spent on hobbies\n",
    "* Relevance: For identifying how effectively individuals manage their leisure time."
   ]
  },
  {
   "cell_type": "markdown",
   "id": "3c038ccf",
   "metadata": {},
   "source": [
    "2.Life Satisfaction:\n",
    "* Measurement: continuous scale\n",
    "* Visualization: Histogram shows the distribution\n",
    "* Relevance: indicates people's overall well-being"
   ]
  },
  {
   "cell_type": "markdown",
   "id": "0bf03e1a",
   "metadata": {},
   "source": [
    "###### Analysis Method"
   ]
  },
  {
   "cell_type": "markdown",
   "id": "6572e581",
   "metadata": {},
   "source": [
    "1.Simple Linear Regression"
   ]
  },
  {
   "cell_type": "markdown",
   "id": "b89f4dcb",
   "metadata": {},
   "source": [
    "###### Hypothesis and Results\n",
    "* H0:There is no significant relationship between the extent of time spent on hobbies and life satisfaction.\n",
    "* H1:There is a significant relationship between the extent of time spent on hobbies and life satisfaction.\n",
    "* Relevance:The analysis will quantify the impact of the extent of time spent on hobbies on life satisfaction, providing evidence for the importance of leisure activities in enhancing well-being and guiding future initiatives aimed at promoting balanced lifestyles."
   ]
  },
  {
   "cell_type": "markdown",
   "id": "c6891483",
   "metadata": {},
   "source": [
    "I want to have the group work with Rui Su."
   ]
  }
 ],
 "metadata": {
  "kernelspec": {
   "display_name": "Python 3 (ipykernel)",
   "language": "python",
   "name": "python3"
  },
  "language_info": {
   "codemirror_mode": {
    "name": "ipython",
    "version": 3
   },
   "file_extension": ".py",
   "mimetype": "text/x-python",
   "name": "python",
   "nbconvert_exporter": "python",
   "pygments_lexer": "ipython3",
   "version": "3.11.6"
  }
 },
 "nbformat": 4,
 "nbformat_minor": 5
}
